{
  "nbformat": 4,
  "nbformat_minor": 0,
  "metadata": {
    "colab": {
      "name": "Lab9_BisectionConvergence.ipynb",
      "provenance": [],
      "collapsed_sections": []
    },
    "kernelspec": {
      "name": "python3",
      "display_name": "Python 3"
    }
  },
  "cells": [
    {
      "cell_type": "markdown",
      "metadata": {
        "id": "yI0D6jQYajUi"
      },
      "source": [
        "#**Lab 9: BisectionConvergence**#\n",
        "\n",
        "Javier Alejandro Ortzi Silva\n",
        "\n",
        "**Contenido**\n",
        "\n",
        "1. Notebook sin editar\n",
        "\n",
        "2. Solucion del lab"
      ]
    },
    {
      "cell_type": "markdown",
      "metadata": {
        "id": "qjdxBwwPJI5H"
      },
      "source": [
        "#**|||||||||||||||||||||||||||||||||||||||||||||||||||||||||||||||||||||||||||||||||||||||||||||||||||||||||||||||||||||||||||||||||||||||||||||||||||||||||**"
      ]
    },
    {
      "cell_type": "markdown",
      "metadata": {
        "id": "V-WukmI0JI92"
      },
      "source": [
        "#**|||||||||||||||||||||||||||||||||||||||||||||||||||||||||||||||||||||||||||||||||||||||||||||||||||||||||||||||||||||||||||||||||||||||||||||||||||||||||**"
      ]
    },
    {
      "cell_type": "markdown",
      "metadata": {
        "id": "lkhWrKHtJJCy"
      },
      "source": [
        "#**|||||||||||||||||||||||||||||||||||||||||||||||||||||||||||||||||||||||||||||||||||||||||||||||||||||||||||||||||||||||||||||||||||||||||||||||||||||||||**"
      ]
    },
    {
      "cell_type": "code",
      "metadata": {
        "id": "2TyCyWKZrFqE"
      },
      "source": [
        "import matplotlib.pyplot as plt\n",
        "import numpy as np"
      ],
      "execution_count": 2,
      "outputs": []
    },
    {
      "cell_type": "code",
      "metadata": {
        "id": "BNESTRW1rE3v",
        "colab": {
          "base_uri": "https://localhost:8080/",
          "height": 281
        },
        "outputId": "d4c9938a-53e2-4f1a-ffb6-4bf999e5271d"
      },
      "source": [
        "extent = 0.0, 4.0, 0.0, 4.0 \n",
        "   \n",
        "width = 400\n",
        "height= 400\n",
        "pixels = np.full((width,height,3),0)\n",
        "for i in range(width):\n",
        "  for j in range(height):\n",
        "    if (j>i+100): \n",
        "      pixels[height-j-1,i,0] = pixels[height-j-1,i,1] = pixels[height-j-1,i,2] = 255\n",
        "      #print(i,j)\n",
        "\n",
        "plt.title('bisection_convergence')\n",
        "plt.imshow(pixels,extent = extent)\n",
        "plt.show()"
      ],
      "execution_count": 3,
      "outputs": [
        {
          "output_type": "display_data",
          "data": {
            "image/png": "[encoded data removed]",
            "text/plain": [
              "<Figure size 432x288 with 1 Axes>"
            ]
          },
          "metadata": {
            "tags": [],
            "needs_background": "light"
          }
        }
      ]
    },
    {
      "cell_type": "code",
      "metadata": {
        "id": "YHJvkN4Anqac",
        "colab": {
          "base_uri": "https://localhost:8080/",
          "height": 313
        },
        "outputId": "ce37012d-2df7-4f1e-dda5-a96f121b70be"
      },
      "source": [
        "def func(x): \n",
        "    return (x-1) *(x-2) *(x-3)\n",
        "\n",
        "\n",
        "x = np.linspace(0.0,4.0,500)\n",
        "fig, ax = plt.subplots()\n",
        "ax.plot(x,func(x))\n",
        "ax.axhline(y=0, color='k')\n",
        "ax.axvline(x=0, color='k')\n",
        "ax.grid(True, which='both')\n",
        "plt.title('f(x)=(x-1) *(x-2) *(x-3)')\n",
        "plt.xlabel('x')\n",
        "plt.ylabel('f(x)')\n"
      ],
      "execution_count": 4,
      "outputs": [
        {
          "output_type": "execute_result",
          "data": {
            "text/plain": [
              "Text(0, 0.5, 'f(x)')"
            ]
          },
          "metadata": {
            "tags": []
          },
          "execution_count": 4
        },
        {
          "output_type": "display_data",
          "data": {
            "image/png": "[encoded data removed]",
            "text/plain": [
              "<Figure size 432x288 with 1 Axes>"
            ]
          },
          "metadata": {
            "tags": [],
            "needs_background": "light"
          }
        }
      ]
    },
    {
      "cell_type": "code",
      "metadata": {
        "id": "6Vd93Vz1psE3",
        "colab": {
          "base_uri": "https://localhost:8080/",
          "height": 295
        },
        "outputId": "d7100267-c547-40a4-d025-c9185021fc07"
      },
      "source": [
        "width = height = 80\n",
        "xi=0.0\n",
        "xf=4.0\n",
        "eps = 1e-3\n",
        "mxiter = 1e4\n",
        "\n",
        "pixels = np.full((width,height,3),0)\n",
        "# roots\n",
        "r1 = 1\n",
        "r2 = 2\n",
        "r3 = 3\n",
        "   \n",
        "multcol = 5\n",
        "\n",
        "for i in range(height):\n",
        "            \n",
        "            aa =   float(xi + (i * (xf-xi) /height))\n",
        "            \n",
        "            for j in range(width):\n",
        "                bb= float(xi + (j* (xf-xi)/ width))\n",
        "\n",
        "                a = aa\n",
        "                b = bb\n",
        "                c=a\n",
        "                iter = 0\n",
        "                \n",
        "                while ((b-a) >= eps and (func(a) * func(b) <= 0)): \n",
        "                   \n",
        "                    # Check if a is root \n",
        "                    if (func(a) == 0.0): \n",
        "                      c=a\n",
        "                      break\n",
        "\n",
        "                    # Check if b is root \n",
        "                    if (func(b) == 0.0): \n",
        "                      c=b\n",
        "                      break\n",
        "  \n",
        "                    # Find middle point \n",
        "                    c = (a+b)/2\n",
        "    \n",
        "                    # Decide the side to repeat the steps \n",
        "                    if (func(c)*func(a) < 0): \n",
        "                        b = c \n",
        "                    else: \n",
        "                        a = c \n",
        "                    \n",
        "                    iter = iter + 1\n",
        "                    \n",
        "                    if (iter > mxiter):\n",
        "                     break\n",
        "\n",
        "                # Pixels colored using the roots\n",
        "                if abs(c-r1)<eps:\n",
        "                    # color red\n",
        "                    pixels[height-j-1,i] = (255 - iter*multcol, 0, 0)\n",
        "                elif abs(c-r2)<=eps:\n",
        "                    # color green\n",
        "                    pixels[height-j-1,i] = (0, 255 - iter*multcol, 0)\n",
        "                elif abs(c-r3)<=eps:\n",
        "                    # color blue\n",
        "                    pixels[height-j-1,i] = (0, 0, 255 - iter*multcol)\n",
        "                elif (b < a):\n",
        "                    pixels[height-j-1,i] = (255, 255, 0)\n",
        "                elif (func(a) * func(b) >= 0):\n",
        "                    pixels[height-j-1,i] = (255, 255, 255)\n",
        "                else:   \n",
        "                    pixels[height-j-1,i] = (0, 0, 0)\n",
        "\n",
        "                \n",
        "     \n",
        "plt.title('bisection_convergence')\n",
        "plt.xlabel(\"a in (\"+str(xi)+\",\"+str(xf)+\")\")\n",
        "plt.ylabel(\"b in (\"+str(xi)+\",\"+str(xf)+\")\")\n",
        "extent = xi, xf, xi, xf\n",
        "plt.imshow(pixels,extent =extent)\n",
        "plt.show()"
      ],
      "execution_count": 5,
      "outputs": [
        {
          "output_type": "display_data",
          "data": {
            "image/png": "[encoded data removed]",
            "text/plain": [
              "<Figure size 432x288 with 1 Axes>"
            ]
          },
          "metadata": {
            "tags": [],
            "needs_background": "light"
          }
        }
      ]
    },
    {
      "cell_type": "code",
      "metadata": {
        "id": "5qhnq7IkGGCg",
        "colab": {
          "base_uri": "https://localhost:8080/",
          "height": 295
        },
        "outputId": "07041d4b-bfa7-4067-af33-ff3370331d4a"
      },
      "source": [
        "width = height = 320\n",
        "xi=-8.0\n",
        "xf=8.0\n",
        "eps = 1e-3\n",
        "mxiter = 1e4\n",
        "\n",
        "pixels = np.full((width,height,3),0)\n",
        "# roots\n",
        "r1 = 1\n",
        "r2 = 2\n",
        "r3 = 3\n",
        "   \n",
        "multcol = 5\n",
        "\n",
        "for i in range(height):\n",
        "            \n",
        "            aa =   float(xi + (i * (xf-xi) /height))\n",
        "            \n",
        "            for j in range(width):\n",
        "                bb= float(xi + (j* (xf-xi)/ width))\n",
        "\n",
        "                a = aa\n",
        "                b = bb\n",
        "                c=a\n",
        "                iter = 0\n",
        "                \n",
        "                while ((b-a) >= eps and (func(a) * func(b) <= 0)): \n",
        "                   \n",
        "                    # Check if a is root \n",
        "                    if (func(a) == 0.0): \n",
        "                      c=a\n",
        "                      break\n",
        "\n",
        "                    # Check if b is root \n",
        "                    if (func(b) == 0.0): \n",
        "                      c=b\n",
        "                      break\n",
        "  \n",
        "                    # Find middle point \n",
        "                    c = (a+b)/2\n",
        "    \n",
        "                    # Decide the side to repeat the steps \n",
        "                    if (func(c)*func(a) < 0): \n",
        "                        b = c \n",
        "                    else: \n",
        "                        a = c \n",
        "                    \n",
        "                    iter = iter + 1\n",
        "                    \n",
        "                    if (iter > mxiter):\n",
        "                     break\n",
        "\n",
        "                # Pixels colored using the roots\n",
        "                if abs(c-r1)<eps:\n",
        "                    # color red\n",
        "                    pixels[height-j-1,i] = (255 - iter*multcol, 0, 0)\n",
        "                elif abs(c-r2)<=eps:\n",
        "                    # color green\n",
        "                    pixels[height-j-1,i] = (0, 255 - iter*multcol, 0)\n",
        "                elif abs(c-r3)<=eps:\n",
        "                    # color blue\n",
        "                    pixels[height-j-1,i] = (0, 0, 255 - iter*multcol)\n",
        "                elif (b < a):\n",
        "                    pixels[height-j-1,i] = (255, 255, 0)\n",
        "                elif (func(a) * func(b) >= 0):\n",
        "                    pixels[height-j-1,i] = (255, 255, 255)\n",
        "                else:   \n",
        "                    pixels[height-j-1,i] = (0, 0, 0)\n",
        "\n",
        "                \n",
        "     \n",
        "plt.title('bisection_convergence')\n",
        "plt.xlabel(\"a in (\"+str(xi)+\",\"+str(xf)+\")\")\n",
        "plt.ylabel(\"b in (\"+str(xi)+\",\"+str(xf)+\")\")\n",
        "extent = xi, xf, xi, xf\n",
        "plt.imshow(pixels,extent =extent)\n",
        "plt.show()"
      ],
      "execution_count": 6,
      "outputs": [
        {
          "output_type": "display_data",
          "data": {
            "image/png": "[encoded data removed]",
            "text/plain": [
              "<Figure size 432x288 with 1 Axes>"
            ]
          },
          "metadata": {
            "tags": [],
            "needs_background": "light"
          }
        }
      ]
    },
    {
      "cell_type": "markdown",
      "metadata": {
        "id": "Z7-hErJ0JCDd"
      },
      "source": [
        "#**|||||||||||||||||||||||||||||||||||||||||||||||||||||||||||||||||||||||||||||||||||||||||||||||||||||||||||||||||||||||||||||||||||||||||||||||||||||||||**"
      ]
    },
    {
      "cell_type": "markdown",
      "metadata": {
        "id": "4qsWcuHzJHS_"
      },
      "source": [
        "#**|||||||||||||||||||||||||||||||||||||||||||||||||||||||||||||||||||||||||||||||||||||||||||||||||||||||||||||||||||||||||||||||||||||||||||||||||||||||||**"
      ]
    },
    {
      "cell_type": "markdown",
      "metadata": {
        "id": "LnJs0V8OJHbp"
      },
      "source": [
        "#**|||||||||||||||||||||||||||||||||||||||||||||||||||||||||||||||||||||||||||||||||||||||||||||||||||||||||||||||||||||||||||||||||||||||||||||||||||||||||**"
      ]
    },
    {
      "cell_type": "markdown",
      "metadata": {
        "id": "ZS3yMOTnQf2-"
      },
      "source": [
        "***\n",
        "\n",
        "**LAB 9 Bisection Convergence**\n",
        "\n",
        "1. Modify the BisectionConvergence.ipynb to be applied to f(x) = (x-1) *(x-2) *(x-3)*(x-4) for x in [0.5).\n",
        "\n",
        "\n",
        "2. Describe the regions where starting intervals (a,b) converge and to which root does it converge. Also which regions do not converge and why.\n",
        "\n",
        "***"
      ]
    },
    {
      "cell_type": "markdown",
      "metadata": {
        "id": "rWnlrtLzRDwK"
      },
      "source": [
        "#Punto 1\n",
        "\n",
        "Modify the BisectionConvergence.ipynb to be applied to f(x) = (x-1) (x-2) *(x-3)(x-4) for x in [0.5)."
      ]
    },
    {
      "cell_type": "code",
      "metadata": {
        "colab": {
          "base_uri": "https://localhost:8080/",
          "height": 281
        },
        "id": "kJdMBM3mLb-q",
        "outputId": "31668e49-1deb-4134-b768-ff62a72c00ae"
      },
      "source": [
        "extent = 0.0, 4.0, 0.0, 4.0 \n",
        "   \n",
        "width = 400\n",
        "height= 400\n",
        "pixels = np.full((width,height,3),0)\n",
        "for i in range(width):\n",
        "  for j in range(height):\n",
        "    if (j>i+100): \n",
        "      pixels[height-j-1,i,0] = pixels[height-j-1,i,1] = pixels[height-j-1,i,2] = 255\n",
        "      #print(i,j)\n",
        "\n",
        "plt.title('bisection_convergence')\n",
        "plt.imshow(pixels,extent = extent)\n",
        "plt.show()"
      ],
      "execution_count": 8,
      "outputs": [
        {
          "output_type": "display_data",
          "data": {
            "image/png": "[encoded data removed]",
            "text/plain": [
              "<Figure size 432x288 with 1 Axes>"
            ]
          },
          "metadata": {
            "tags": [],
            "needs_background": "light"
          }
        }
      ]
    },
    {
      "cell_type": "markdown",
      "metadata": {
        "id": "SqcFS7iuQ42n"
      },
      "source": [
        "#Grafica de la funcion"
      ]
    },
    {
      "cell_type": "code",
      "metadata": {
        "colab": {
          "base_uri": "https://localhost:8080/",
          "height": 313
        },
        "id": "bFDQP2hiJOPN",
        "outputId": "bc0b1a95-0746-41ac-a59d-d523372f9e82"
      },
      "source": [
        "def func(x): \n",
        "    return (x-1) *(x-2) *(x-3) *(x-4)\n",
        "\n",
        "\n",
        "x = np.linspace(0.0,4.0,500)\n",
        "fig, ax = plt.subplots()\n",
        "ax.plot(x,func(x))\n",
        "ax.axhline(y=0, color='k')\n",
        "ax.axvline(x=0, color='k')\n",
        "ax.grid(True, which='both')\n",
        "plt.title('f(x)=(x-1) *(x-2) *(x-3) *(x-4)')\n",
        "plt.xlabel('x')\n",
        "plt.ylabel('f(x)')\n"
      ],
      "execution_count": 9,
      "outputs": [
        {
          "output_type": "execute_result",
          "data": {
            "text/plain": [
              "Text(0, 0.5, 'f(x)')"
            ]
          },
          "metadata": {
            "tags": []
          },
          "execution_count": 9
        },
        {
          "output_type": "display_data",
          "data": {
            "image/png": "[encoded data removed]",
            "text/plain": [
              "<Figure size 432x288 with 1 Axes>"
            ]
          },
          "metadata": {
            "tags": [],
            "needs_background": "light"
          }
        }
      ]
    },
    {
      "cell_type": "markdown",
      "metadata": {
        "id": "l0QbBTRDQ70G"
      },
      "source": [
        "#Grafica de las regiones de convergencia"
      ]
    },
    {
      "cell_type": "code",
      "metadata": {
        "colab": {
          "base_uri": "https://localhost:8080/",
          "height": 295
        },
        "id": "KQC4kY3KKVZh",
        "outputId": "f79b9bf0-0884-49e6-8892-74edce226f2b"
      },
      "source": [
        "width = height = 80\n",
        "xi=0.0\n",
        "xf=5.0\n",
        "eps = 1e-3\n",
        "mxiter = 1e4\n",
        "\n",
        "pixels = np.full((width,height,3),0)\n",
        "# roots\n",
        "r1 = 1\n",
        "r2 = 2\n",
        "r3 = 3\n",
        "r4 = 4\n",
        "   \n",
        "multcol = 5\n",
        "\n",
        "for i in range(height):\n",
        "            \n",
        "            aa =   float(xi + (i * (xf-xi) /height))\n",
        "            \n",
        "            for j in range(width):\n",
        "                bb= float(xi + (j* (xf-xi)/ width))\n",
        "\n",
        "                a = aa\n",
        "                b = bb\n",
        "                c=a\n",
        "                iter = 0\n",
        "                \n",
        "                while ((b-a) >= eps and (func(a) * func(b) <= 0)): \n",
        "                   \n",
        "                    # Check if a is root \n",
        "                    if (func(a) == 0.0): \n",
        "                      c=a\n",
        "                      break\n",
        "\n",
        "                    # Check if b is root \n",
        "                    if (func(b) == 0.0): \n",
        "                      c=b\n",
        "                      break\n",
        "  \n",
        "                    # Find middle point \n",
        "                    c = (a+b)/2\n",
        "    \n",
        "                    # Decide the side to repeat the steps \n",
        "                    if (func(c)*func(a) < 0): \n",
        "                        b = c \n",
        "                    else: \n",
        "                        a = c \n",
        "                    \n",
        "                    iter = iter + 1\n",
        "                    \n",
        "                    if (iter > mxiter):\n",
        "                     break\n",
        "\n",
        "                # Pixels colored using the roots\n",
        "                if abs(c-r1)<eps:\n",
        "                    # color red\n",
        "                    pixels[height-j-1,i] = (255 - iter*multcol, 0, 0)\n",
        "                elif abs(c-r2)<=eps:\n",
        "                    # color green\n",
        "                    pixels[height-j-1,i] = (0, 255 - iter*multcol, 0)\n",
        "                elif abs(c-r3)<=eps:\n",
        "                    # color blue\n",
        "                    pixels[height-j-1,i] = (0, 0, 255 - iter*multcol)\n",
        "                elif abs(c-r4)<=eps:\n",
        "                    # color purple\n",
        "                    pixels[height-j-1,i] = (148,0,211 - iter*multcol)\n",
        "                elif (b < a):\n",
        "                  #Los intervalos amarillos no tienen sentido pues como b<a pueden ser tipo [1,-1]\n",
        "                    pixels[height-j-1,i] = (255, 255, 0)\n",
        "                elif (func(a) * func(b) >= 0):\n",
        "                  #La funcion no converge si los dos puntos extremos tienen mismo signo\n",
        "                    pixels[height-j-1,i] = (255, 255, 255)\n",
        "                else:   \n",
        "                    pixels[height-j-1,i] = (0, 0, 0)\n",
        "\n",
        "                \n",
        "     \n",
        "plt.title('bisection_convergence')\n",
        "plt.xlabel(\"a in (\"+str(xi)+\",\"+str(xf)+\")\")\n",
        "plt.ylabel(\"b in (\"+str(xi)+\",\"+str(xf)+\")\")\n",
        "extent = xi, xf, xi, xf\n",
        "plt.imshow(pixels,extent =extent)\n",
        "plt.show()"
      ],
      "execution_count": 10,
      "outputs": [
        {
          "output_type": "display_data",
          "data": {
            "image/png": "[encoded data removed]",
            "text/plain": [
              "<Figure size 432x288 with 1 Axes>"
            ]
          },
          "metadata": {
            "tags": [],
            "needs_background": "light"
          }
        }
      ]
    },
    {
      "cell_type": "markdown",
      "metadata": {
        "id": "jR9bR6rCRlDi"
      },
      "source": [
        "#Punto 2\n",
        "\n",
        "Describe the regions where starting intervals (a,b) converge and to which root does it converge. Also which regions do not converge and why."
      ]
    },
    {
      "cell_type": "markdown",
      "metadata": {
        "id": "m2gcbGmYRuoS"
      },
      "source": [
        "#Analisis de convergencia\n",
        "\n",
        "Respecto a la convergencia de la funcion $(x-1)(x-2)(x-3)(x-4)$ a la hora de hacer la busqueda de raices usando el metodo de biseccion tenemos que las regiones son:"
      ]
    },
    {
      "cell_type": "markdown",
      "metadata": {
        "id": "cN2NIcp7S_x3"
      },
      "source": [
        "**Regiones de convergencia**\n",
        "\n",
        "a $\\in$ (0,1) y b $\\in$ (1,2) = 1\n",
        "\n",
        "a $\\in$ (1,2) y b $\\in$ (2,3) = 2\n",
        "\n",
        "a $\\in$ (2,,3) y b $\\in$ (3,4) = 3\n",
        "\n",
        "a $\\in$ (3,4) y b $\\in$ (4,5) = 4\n",
        "\n",
        "a $\\in$ (0,1) y b $\\in$ (3,4) = 1 o 3 dependiendo decimales\n",
        "\n",
        "a $\\in$ (1,2) y b $\\in$ (4,5) = 2 o 4 dependiendo decimales\n"
      ]
    },
    {
      "cell_type": "markdown",
      "metadata": {
        "id": "DOVcGIkXTgox"
      },
      "source": [
        "**Regiones donde no hay convergencia**"
      ]
    },
    {
      "cell_type": "markdown",
      "metadata": {
        "id": "05ANOqLWXdwu"
      },
      "source": [
        "Todas las regiones blancas no convergen debido a que se incumple el axioma de que las valores de los extremos a y b tienen signo opuesto."
      ]
    },
    {
      "cell_type": "markdown",
      "metadata": {
        "id": "MXyj7yIyT0rF"
      },
      "source": [
        "* a,b$<$0 o a,b $\\in$[0,1] o a,b $\\in$ [1,2] o a,b $\\in$ [2,3] o a,b $\\in$[3,4] o a,b>4 \n",
        "\n",
        "* a $\\in$ (0,1) y b $\\in$ (2,3)\n",
        "\n",
        "* a $\\in$ (0,1) y b $\\in$ (4,5)\n",
        "\n",
        "* a $\\in$ (1,2) y b $\\in$ (3,4)\n",
        "\n",
        "* a $\\in$ (2,3) y b $\\in$ (4,5)\n",
        "\n",
        "\n"
      ]
    },
    {
      "cell_type": "code",
      "metadata": {
        "id": "enjNmrAhJe_t"
      },
      "source": [
        ""
      ],
      "execution_count": 7,
      "outputs": []
    }
  ]
}